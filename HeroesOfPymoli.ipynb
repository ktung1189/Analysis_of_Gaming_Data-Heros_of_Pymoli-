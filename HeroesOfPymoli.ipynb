{
 "cells": [
  {
   "cell_type": "code",
   "execution_count": 1,
   "metadata": {},
   "outputs": [
    {
     "data": {
      "text/html": [
       "<div>\n",
       "<style scoped>\n",
       "    .dataframe tbody tr th:only-of-type {\n",
       "        vertical-align: middle;\n",
       "    }\n",
       "\n",
       "    .dataframe tbody tr th {\n",
       "        vertical-align: top;\n",
       "    }\n",
       "\n",
       "    .dataframe thead th {\n",
       "        text-align: right;\n",
       "    }\n",
       "</style>\n",
       "<table border=\"1\" class=\"dataframe\">\n",
       "  <thead>\n",
       "    <tr style=\"text-align: right;\">\n",
       "      <th></th>\n",
       "      <th>Purchase ID</th>\n",
       "      <th>SN</th>\n",
       "      <th>Age</th>\n",
       "      <th>Gender</th>\n",
       "      <th>Item ID</th>\n",
       "      <th>Item Name</th>\n",
       "      <th>Price</th>\n",
       "    </tr>\n",
       "  </thead>\n",
       "  <tbody>\n",
       "    <tr>\n",
       "      <th>0</th>\n",
       "      <td>0</td>\n",
       "      <td>Lisim78</td>\n",
       "      <td>20</td>\n",
       "      <td>Male</td>\n",
       "      <td>108</td>\n",
       "      <td>Extraction, Quickblade Of Trembling Hands</td>\n",
       "      <td>3.53</td>\n",
       "    </tr>\n",
       "    <tr>\n",
       "      <th>1</th>\n",
       "      <td>1</td>\n",
       "      <td>Lisovynya38</td>\n",
       "      <td>40</td>\n",
       "      <td>Male</td>\n",
       "      <td>143</td>\n",
       "      <td>Frenzied Scimitar</td>\n",
       "      <td>1.56</td>\n",
       "    </tr>\n",
       "  </tbody>\n",
       "</table>\n",
       "</div>"
      ],
      "text/plain": [
       "   Purchase ID           SN  Age Gender  Item ID  \\\n",
       "0            0      Lisim78   20   Male      108   \n",
       "1            1  Lisovynya38   40   Male      143   \n",
       "\n",
       "                                   Item Name  Price  \n",
       "0  Extraction, Quickblade Of Trembling Hands   3.53  \n",
       "1                          Frenzied Scimitar   1.56  "
      ]
     },
     "execution_count": 1,
     "metadata": {},
     "output_type": "execute_result"
    }
   ],
   "source": [
    "# Dependencies and Setup\n",
    "import pandas as pd\n",
    "import numpy as np\n",
    "\n",
    "# File to Load (Remember to Change These)\n",
    "file_to_load = \"Resources/purchase_data.csv\"\n",
    "\n",
    "# Read Purchasing File and store into Pandas data frame\n",
    "purchase_data = pd.read_csv(file_to_load)\n",
    "purchase_data.head(2)"
   ]
  },
  {
   "cell_type": "code",
   "execution_count": 2,
   "metadata": {},
   "outputs": [
    {
     "data": {
      "text/plain": [
       "(183,)"
      ]
     },
     "execution_count": 2,
     "metadata": {},
     "output_type": "execute_result"
    }
   ],
   "source": [
    "purchase_data['Item ID'].unique().shape"
   ]
  },
  {
   "cell_type": "code",
   "execution_count": 3,
   "metadata": {},
   "outputs": [
    {
     "data": {
      "text/plain": [
       "(179,)"
      ]
     },
     "execution_count": 3,
     "metadata": {},
     "output_type": "execute_result"
    }
   ],
   "source": [
    "purchase_data['Item Name'].unique().shape"
   ]
  },
  {
   "cell_type": "code",
   "execution_count": 4,
   "metadata": {},
   "outputs": [
    {
     "data": {
      "text/plain": [
       "Item Name\n",
       "Bone Crushing Silver Skewer                   {165}\n",
       "Bonecarvin Battle Axe                          {44}\n",
       "Brimstone                                      {11}\n",
       "Brutality Ivory Warmace                        {75}\n",
       "Celeste                                        {91}\n",
       "Celeste, Incarnation of the Corrupted          {67}\n",
       "Chaos, Ender of the End                        {29}\n",
       "Conqueror Adamantite Mace                      {65}\n",
       "Crucifer                                    {1, 23}\n",
       "Crying Steel Sickle                           {106}\n",
       "Curved Axe                                     {33}\n",
       "Darkheart                                     {152}\n",
       "Darkheart, Butcher of the Champion            {158}\n",
       "Dawn                                           {50}\n",
       "Dawne                                          {12}\n",
       "Deadline, Voice Of Subtlety                    {98}\n",
       "Deathraze                                     {150}\n",
       "Deluge, Edge of the West                       {87}\n",
       "Demise                                         {71}\n",
       "Despair, Favor of Due Diligence                {57}\n",
       "Devine                                        {161}\n",
       "Downfall, Scalpel Of The Emperor              {109}\n",
       "Dragon's Greatsword                           {183}\n",
       "Dreamkiss                                      {81}\n",
       "Dreamsong                                      {80}\n",
       "Emberling, Defender of Delusions               {88}\n",
       "Endbringer                                     {51}\n",
       "Eternal Cleaver                                {54}\n",
       "Exiled Doomblade                              {164}\n",
       "Exiled Mithril Longsword                      {126}\n",
       "                                             ...   \n",
       "Thorn, Conqueror of the Corrupted               {9}\n",
       "Thorn, Satchel of Dark Souls                    {7}\n",
       "Thunderfury Scimitar                          {163}\n",
       "Toothpick                                     {182}\n",
       "Torchlight, Bond of Storms                     {18}\n",
       "Tranquility, Razor of Black Magic             {149}\n",
       "Trickster                                      {31}\n",
       "Twilight's Carver                             {123}\n",
       "Undead Crusader                               {134}\n",
       "Unending Tyranny                              {122}\n",
       "Unholy Wand                                    {26}\n",
       "Vengeance Cleaver                              {53}\n",
       "Venom Claymore                                {124}\n",
       "Verdict                                         {2}\n",
       "Victor Iron Spikes                             {66}\n",
       "Vindictive Glass Edge                          {55}\n",
       "War-Forged Gold Deflector                     {155}\n",
       "Warmonger, Gift of Suffering's End            {148}\n",
       "Warped Diamond Crusader                       {135}\n",
       "Warped Fetish                                  {24}\n",
       "Warped Iron Scimitar                          {146}\n",
       "Whistling Mithril Warblade                    {125}\n",
       "Winter's Bite                                  {72}\n",
       "Winterthorn, Defender of Shifting Worlds      {177}\n",
       "Woeful Adamantite Claymore                    {175}\n",
       "Wolf                                           {60}\n",
       "Wolf, Promise of the Moonwalker               {179}\n",
       "Worldbreaker                                  {112}\n",
       "Yearning Crusher                               {74}\n",
       "Yearning Mageblade                            {114}\n",
       "Name: Item ID, Length: 159, dtype: object"
      ]
     },
     "execution_count": 4,
     "metadata": {},
     "output_type": "execute_result"
    }
   ],
   "source": [
    "purchase_data.groupby('Item Name')['Item ID'].apply(set)[20:] # Note Crucifer"
   ]
  },
  {
   "cell_type": "code",
   "execution_count": 5,
   "metadata": {},
   "outputs": [
    {
     "data": {
      "text/plain": [
       "576"
      ]
     },
     "execution_count": 5,
     "metadata": {},
     "output_type": "execute_result"
    }
   ],
   "source": [
    "total_player_count = purchase_data['SN'].unique()\n",
    "total_player_count = len(total_player_count)\n",
    "total_player_count"
   ]
  },
  {
   "cell_type": "code",
   "execution_count": 6,
   "metadata": {},
   "outputs": [
    {
     "data": {
      "text/html": [
       "<div>\n",
       "<style scoped>\n",
       "    .dataframe tbody tr th:only-of-type {\n",
       "        vertical-align: middle;\n",
       "    }\n",
       "\n",
       "    .dataframe tbody tr th {\n",
       "        vertical-align: top;\n",
       "    }\n",
       "\n",
       "    .dataframe thead th {\n",
       "        text-align: right;\n",
       "    }\n",
       "</style>\n",
       "<table border=\"1\" class=\"dataframe\">\n",
       "  <thead>\n",
       "    <tr style=\"text-align: right;\">\n",
       "      <th></th>\n",
       "      <th>Purchase ID</th>\n",
       "      <th>SN</th>\n",
       "      <th>Age</th>\n",
       "      <th>Gender</th>\n",
       "      <th>Item ID</th>\n",
       "      <th>Item Name</th>\n",
       "      <th>Price</th>\n",
       "    </tr>\n",
       "  </thead>\n",
       "  <tbody>\n",
       "    <tr>\n",
       "      <th>0</th>\n",
       "      <td>0</td>\n",
       "      <td>Lisim78</td>\n",
       "      <td>20</td>\n",
       "      <td>Male</td>\n",
       "      <td>108</td>\n",
       "      <td>Extraction, Quickblade Of Trembling Hands</td>\n",
       "      <td>3.53</td>\n",
       "    </tr>\n",
       "    <tr>\n",
       "      <th>1</th>\n",
       "      <td>1</td>\n",
       "      <td>Lisovynya38</td>\n",
       "      <td>40</td>\n",
       "      <td>Male</td>\n",
       "      <td>143</td>\n",
       "      <td>Frenzied Scimitar</td>\n",
       "      <td>1.56</td>\n",
       "    </tr>\n",
       "    <tr>\n",
       "      <th>2</th>\n",
       "      <td>2</td>\n",
       "      <td>Ithergue48</td>\n",
       "      <td>24</td>\n",
       "      <td>Male</td>\n",
       "      <td>92</td>\n",
       "      <td>Final Critic</td>\n",
       "      <td>4.88</td>\n",
       "    </tr>\n",
       "    <tr>\n",
       "      <th>3</th>\n",
       "      <td>3</td>\n",
       "      <td>Chamassasya86</td>\n",
       "      <td>24</td>\n",
       "      <td>Male</td>\n",
       "      <td>100</td>\n",
       "      <td>Blindscythe</td>\n",
       "      <td>3.27</td>\n",
       "    </tr>\n",
       "    <tr>\n",
       "      <th>4</th>\n",
       "      <td>4</td>\n",
       "      <td>Iskosia90</td>\n",
       "      <td>23</td>\n",
       "      <td>Male</td>\n",
       "      <td>131</td>\n",
       "      <td>Fury</td>\n",
       "      <td>1.44</td>\n",
       "    </tr>\n",
       "  </tbody>\n",
       "</table>\n",
       "</div>"
      ],
      "text/plain": [
       "   Purchase ID             SN  Age Gender  Item ID  \\\n",
       "0            0        Lisim78   20   Male      108   \n",
       "1            1    Lisovynya38   40   Male      143   \n",
       "2            2     Ithergue48   24   Male       92   \n",
       "3            3  Chamassasya86   24   Male      100   \n",
       "4            4      Iskosia90   23   Male      131   \n",
       "\n",
       "                                   Item Name  Price  \n",
       "0  Extraction, Quickblade Of Trembling Hands   3.53  \n",
       "1                          Frenzied Scimitar   1.56  \n",
       "2                               Final Critic   4.88  \n",
       "3                                Blindscythe   3.27  \n",
       "4                                       Fury   1.44  "
      ]
     },
     "execution_count": 6,
     "metadata": {},
     "output_type": "execute_result"
    }
   ],
   "source": [
    "purchase_data.head()"
   ]
  },
  {
   "cell_type": "code",
   "execution_count": 7,
   "metadata": {},
   "outputs": [
    {
     "data": {
      "text/plain": [
       "179"
      ]
     },
     "execution_count": 7,
     "metadata": {},
     "output_type": "execute_result"
    }
   ],
   "source": [
    "#Using .unique() to find all items not including duplicates, then len() to count the total of unique items\n",
    "number_of_unique = purchase_data['Item Name'].unique()\n",
    "number_of_unique = len(number_of_unique)\n",
    "number_of_unique"
   ]
  },
  {
   "cell_type": "code",
   "execution_count": 8,
   "metadata": {},
   "outputs": [
    {
     "data": {
      "text/plain": [
       "'$3.05'"
      ]
     },
     "execution_count": 8,
     "metadata": {},
     "output_type": "execute_result"
    }
   ],
   "source": [
    "#Using .mean() to find the average of whole column of price\n",
    "avg_price = purchase_data['Price'].mean()\n",
    "avg_price = '${:,.2f}'.format(avg_price)\n",
    "avg_price"
   ]
  },
  {
   "cell_type": "code",
   "execution_count": 9,
   "metadata": {},
   "outputs": [
    {
     "data": {
      "text/plain": [
       "780"
      ]
     },
     "execution_count": 9,
     "metadata": {},
     "output_type": "execute_result"
    }
   ],
   "source": [
    "#Using len to total rows in 'Item Name Column'\n",
    "number_purchases = purchase_data['Item Name']\n",
    "number_purchases = len(number_purchases)\n",
    "number_purchases"
   ]
  },
  {
   "cell_type": "code",
   "execution_count": 10,
   "metadata": {},
   "outputs": [
    {
     "data": {
      "text/plain": [
       "'$2,379.77'"
      ]
     },
     "execution_count": 10,
     "metadata": {},
     "output_type": "execute_result"
    }
   ],
   "source": [
    "#Using .sum() to get total of 'Price' column and formating to show $ and to 2 decimals\n",
    "total_rev = purchase_data['Price'].sum()\n",
    "total_rev = '${:,.2f}'.format(total_rev)\n",
    "total_rev"
   ]
  },
  {
   "cell_type": "code",
   "execution_count": 11,
   "metadata": {},
   "outputs": [
    {
     "data": {
      "text/html": [
       "<div>\n",
       "<style scoped>\n",
       "    .dataframe tbody tr th:only-of-type {\n",
       "        vertical-align: middle;\n",
       "    }\n",
       "\n",
       "    .dataframe tbody tr th {\n",
       "        vertical-align: top;\n",
       "    }\n",
       "\n",
       "    .dataframe thead th {\n",
       "        text-align: right;\n",
       "    }\n",
       "</style>\n",
       "<table border=\"1\" class=\"dataframe\">\n",
       "  <thead>\n",
       "    <tr style=\"text-align: right;\">\n",
       "      <th></th>\n",
       "      <th>Number of Unique Items</th>\n",
       "      <th>Average Price</th>\n",
       "      <th>Number of Purchases</th>\n",
       "      <th>Total Revenue</th>\n",
       "    </tr>\n",
       "  </thead>\n",
       "  <tbody>\n",
       "    <tr>\n",
       "      <th>0</th>\n",
       "      <td>179</td>\n",
       "      <td>$3.05</td>\n",
       "      <td>780</td>\n",
       "      <td>$2,379.77</td>\n",
       "    </tr>\n",
       "  </tbody>\n",
       "</table>\n",
       "</div>"
      ],
      "text/plain": [
       "   Number of Unique Items Average Price  Number of Purchases Total Revenue\n",
       "0                     179         $3.05                  780     $2,379.77"
      ]
     },
     "execution_count": 11,
     "metadata": {},
     "output_type": "execute_result"
    }
   ],
   "source": [
    "#Create a new dataframe to hold the new calculated data\n",
    "summary_df = pd.DataFrame({\n",
    "                    \"Number of Unique Items\": [number_of_unique],\n",
    "                    \"Average Price\": [avg_price],\n",
    "                    \"Number of Purchases\": [number_purchases],\n",
    "                    \"Total Revenue\": [total_rev],\n",
    "    \n",
    "})\n",
    "\n",
    "summary_df"
   ]
  },
  {
   "cell_type": "code",
   "execution_count": 38,
   "metadata": {},
   "outputs": [
    {
     "data": {
      "text/html": [
       "<style  type=\"text/css\" >\n",
       "</style><table id=\"T_fb878db8_9777_11e9_b90b_446d5775eb80\" ><thead>    <tr>        <th class=\"blank level0\" ></th>        <th class=\"col_heading level0 col0\" >Total Count</th>        <th class=\"col_heading level0 col1\" >Percentage of Player</th>    </tr>    <tr>        <th class=\"index_name level0\" >Gender</th>        <th class=\"blank\" ></th>        <th class=\"blank\" ></th>    </tr></thead><tbody>\n",
       "                <tr>\n",
       "                        <th id=\"T_fb878db8_9777_11e9_b90b_446d5775eb80level0_row0\" class=\"row_heading level0 row0\" >Male</th>\n",
       "                        <td id=\"T_fb878db8_9777_11e9_b90b_446d5775eb80row0_col0\" class=\"data row0 col0\" >484</td>\n",
       "                        <td id=\"T_fb878db8_9777_11e9_b90b_446d5775eb80row0_col1\" class=\"data row0 col1\" >84.0278</td>\n",
       "            </tr>\n",
       "            <tr>\n",
       "                        <th id=\"T_fb878db8_9777_11e9_b90b_446d5775eb80level0_row1\" class=\"row_heading level0 row1\" >Female</th>\n",
       "                        <td id=\"T_fb878db8_9777_11e9_b90b_446d5775eb80row1_col0\" class=\"data row1 col0\" >81</td>\n",
       "                        <td id=\"T_fb878db8_9777_11e9_b90b_446d5775eb80row1_col1\" class=\"data row1 col1\" >14.0625</td>\n",
       "            </tr>\n",
       "            <tr>\n",
       "                        <th id=\"T_fb878db8_9777_11e9_b90b_446d5775eb80level0_row2\" class=\"row_heading level0 row2\" >Other / Non-Disclosed</th>\n",
       "                        <td id=\"T_fb878db8_9777_11e9_b90b_446d5775eb80row2_col0\" class=\"data row2 col0\" >11</td>\n",
       "                        <td id=\"T_fb878db8_9777_11e9_b90b_446d5775eb80row2_col1\" class=\"data row2 col1\" >1.90972</td>\n",
       "            </tr>\n",
       "    </tbody></table>"
      ],
      "text/plain": [
       "<pandas.io.formats.style.Styler at 0x239cdec47f0>"
      ]
     },
     "execution_count": 38,
     "metadata": {},
     "output_type": "execute_result"
    }
   ],
   "source": [
    "#Find and drop all duplicates in 'SN' and keep all unique, then group the data to 'Gender' and use .count() to get the\n",
    "#total for all unique male, female, and other.  Create dataframe for the matliputlated information and set new index\n",
    "#for rows\n",
    "gender_unique = purchase_data.drop_duplicates(subset = 'SN', keep = 'first')\n",
    "gender_unique = gender_unique.groupby(['Gender'])\n",
    "gender_unique_count = gender_unique['SN'].count()\n",
    "gender_unique_percent = (gender_unique_count / total_player_count) * 100\n",
    "\n",
    "\n",
    "summary_gender_count = pd.DataFrame({'Total Count': gender_unique_count,\n",
    "                                     'Percentage of Player': gender_unique_percent\n",
    "})\n",
    "\n",
    "summary_gender_count = summary_gender_count.reindex(['Male', 'Female', 'Other / Non-Disclosed'])\n",
    "\n",
    "summary_gender_count.style.format({'Total Count': '{:,}', 'Percentage of Players': '{:,.2f}'})"
   ]
  },
  {
   "cell_type": "code",
   "execution_count": 50,
   "metadata": {},
   "outputs": [
    {
     "data": {
      "text/html": [
       "<style  type=\"text/css\" >\n",
       "</style><table id=\"T_5e7a6906_977e_11e9_b304_446d5775eb80\" ><thead>    <tr>        <th class=\"blank level0\" ></th>        <th class=\"col_heading level0 col0\" >Purchase Count</th>        <th class=\"col_heading level0 col1\" >Average Purchase Price</th>        <th class=\"col_heading level0 col2\" >Total Purchase Value</th>        <th class=\"col_heading level0 col3\" >Avg Total Purchase per Person</th>    </tr>    <tr>        <th class=\"index_name level0\" >Gender</th>        <th class=\"blank\" ></th>        <th class=\"blank\" ></th>        <th class=\"blank\" ></th>        <th class=\"blank\" ></th>    </tr></thead><tbody>\n",
       "                <tr>\n",
       "                        <th id=\"T_5e7a6906_977e_11e9_b304_446d5775eb80level0_row0\" class=\"row_heading level0 row0\" >Female</th>\n",
       "                        <td id=\"T_5e7a6906_977e_11e9_b304_446d5775eb80row0_col0\" class=\"data row0 col0\" >113</td>\n",
       "                        <td id=\"T_5e7a6906_977e_11e9_b304_446d5775eb80row0_col1\" class=\"data row0 col1\" > $3.20</td>\n",
       "                        <td id=\"T_5e7a6906_977e_11e9_b304_446d5775eb80row0_col2\" class=\"data row0 col2\" >$361.94</td>\n",
       "                        <td id=\"T_5e7a6906_977e_11e9_b304_446d5775eb80row0_col3\" class=\"data row0 col3\" >$4.47</td>\n",
       "            </tr>\n",
       "            <tr>\n",
       "                        <th id=\"T_5e7a6906_977e_11e9_b304_446d5775eb80level0_row1\" class=\"row_heading level0 row1\" >Male</th>\n",
       "                        <td id=\"T_5e7a6906_977e_11e9_b304_446d5775eb80row1_col0\" class=\"data row1 col0\" >652</td>\n",
       "                        <td id=\"T_5e7a6906_977e_11e9_b304_446d5775eb80row1_col1\" class=\"data row1 col1\" > $3.02</td>\n",
       "                        <td id=\"T_5e7a6906_977e_11e9_b304_446d5775eb80row1_col2\" class=\"data row1 col2\" >$1,967.64</td>\n",
       "                        <td id=\"T_5e7a6906_977e_11e9_b304_446d5775eb80row1_col3\" class=\"data row1 col3\" >$4.07</td>\n",
       "            </tr>\n",
       "            <tr>\n",
       "                        <th id=\"T_5e7a6906_977e_11e9_b304_446d5775eb80level0_row2\" class=\"row_heading level0 row2\" >Other / Non-Disclosed</th>\n",
       "                        <td id=\"T_5e7a6906_977e_11e9_b304_446d5775eb80row2_col0\" class=\"data row2 col0\" >15</td>\n",
       "                        <td id=\"T_5e7a6906_977e_11e9_b304_446d5775eb80row2_col1\" class=\"data row2 col1\" > $3.35</td>\n",
       "                        <td id=\"T_5e7a6906_977e_11e9_b304_446d5775eb80row2_col2\" class=\"data row2 col2\" >$50.19</td>\n",
       "                        <td id=\"T_5e7a6906_977e_11e9_b304_446d5775eb80row2_col3\" class=\"data row2 col3\" >$4.56</td>\n",
       "            </tr>\n",
       "    </tbody></table>"
      ],
      "text/plain": [
       "<pandas.io.formats.style.Styler at 0x239cdda59b0>"
      ]
     },
     "execution_count": 50,
     "metadata": {},
     "output_type": "execute_result"
    }
   ],
   "source": [
    "#Find and drop all duplicates in 'SN' and keep all unique, then group the data to 'Gender' and use .count() to get the\n",
    "#total for all unique male, female, and other. \n",
    "gender_unique = purchase_data.drop_duplicates(subset = 'SN', keep = 'first')\n",
    "gender_unique = gender_unique.groupby(['Gender'])\n",
    "gender_unique = gender_unique['SN'].count()\n",
    "\n",
    "#Group data by 'Gender' to find the count, average price, and total purchase by group.  Then using the the unique\n",
    "#count to calculate the total average purchase by a person in each different group.\n",
    "gender_count = purchase_data.groupby(['Gender'])\n",
    "gender_count_number = gender_count['SN'].count()\n",
    "gender_count_total = gender_count['Price'].sum()\n",
    "gender_avg_purchase = gender_count_total / gender_count_number\n",
    "gender_avg_person = gender_count_total / gender_unique\n",
    "\n",
    "summary_gender_count = pd.DataFrame({'Purchase Count': gender_count_number,\n",
    "                             'Average Purchase Price': gender_avg_purchase,\n",
    "                             'Total Purchase Value': gender_count_total,\n",
    "                             'Avg Total Purchase per Person': gender_avg_person\n",
    "                              \n",
    "})\n",
    "\n",
    "summary_gender_count.style.format({'Average Purchase Price':' ${:,.2f}', 'Total Purchase Value': '${:,.2f}',\n",
    "                                   'Avg Total Purchase per Person': '${:,.2f}'})"
   ]
  },
  {
   "cell_type": "code",
   "execution_count": 51,
   "metadata": {},
   "outputs": [
    {
     "data": {
      "text/html": [
       "<style  type=\"text/css\" >\n",
       "</style><table id=\"T_604899fe_977e_11e9_b8b0_446d5775eb80\" ><thead>    <tr>        <th class=\"blank level0\" ></th>        <th class=\"col_heading level0 col0\" >Total Count</th>        <th class=\"col_heading level0 col1\" >Percentage of Players</th>    </tr>    <tr>        <th class=\"index_name level0\" >Age Group</th>        <th class=\"blank\" ></th>        <th class=\"blank\" ></th>    </tr></thead><tbody>\n",
       "                <tr>\n",
       "                        <th id=\"T_604899fe_977e_11e9_b8b0_446d5775eb80level0_row0\" class=\"row_heading level0 row0\" >< 10</th>\n",
       "                        <td id=\"T_604899fe_977e_11e9_b8b0_446d5775eb80row0_col0\" class=\"data row0 col0\" >17</td>\n",
       "                        <td id=\"T_604899fe_977e_11e9_b8b0_446d5775eb80row0_col1\" class=\"data row0 col1\" >2.95</td>\n",
       "            </tr>\n",
       "            <tr>\n",
       "                        <th id=\"T_604899fe_977e_11e9_b8b0_446d5775eb80level0_row1\" class=\"row_heading level0 row1\" >10 - 14</th>\n",
       "                        <td id=\"T_604899fe_977e_11e9_b8b0_446d5775eb80row1_col0\" class=\"data row1 col0\" >22</td>\n",
       "                        <td id=\"T_604899fe_977e_11e9_b8b0_446d5775eb80row1_col1\" class=\"data row1 col1\" >3.82</td>\n",
       "            </tr>\n",
       "            <tr>\n",
       "                        <th id=\"T_604899fe_977e_11e9_b8b0_446d5775eb80level0_row2\" class=\"row_heading level0 row2\" >15 - 19</th>\n",
       "                        <td id=\"T_604899fe_977e_11e9_b8b0_446d5775eb80row2_col0\" class=\"data row2 col0\" >107</td>\n",
       "                        <td id=\"T_604899fe_977e_11e9_b8b0_446d5775eb80row2_col1\" class=\"data row2 col1\" >18.58</td>\n",
       "            </tr>\n",
       "            <tr>\n",
       "                        <th id=\"T_604899fe_977e_11e9_b8b0_446d5775eb80level0_row3\" class=\"row_heading level0 row3\" >20 - 24</th>\n",
       "                        <td id=\"T_604899fe_977e_11e9_b8b0_446d5775eb80row3_col0\" class=\"data row3 col0\" >258</td>\n",
       "                        <td id=\"T_604899fe_977e_11e9_b8b0_446d5775eb80row3_col1\" class=\"data row3 col1\" >44.79</td>\n",
       "            </tr>\n",
       "            <tr>\n",
       "                        <th id=\"T_604899fe_977e_11e9_b8b0_446d5775eb80level0_row4\" class=\"row_heading level0 row4\" >25 - 29</th>\n",
       "                        <td id=\"T_604899fe_977e_11e9_b8b0_446d5775eb80row4_col0\" class=\"data row4 col0\" >77</td>\n",
       "                        <td id=\"T_604899fe_977e_11e9_b8b0_446d5775eb80row4_col1\" class=\"data row4 col1\" >13.37</td>\n",
       "            </tr>\n",
       "            <tr>\n",
       "                        <th id=\"T_604899fe_977e_11e9_b8b0_446d5775eb80level0_row5\" class=\"row_heading level0 row5\" >30 - 34</th>\n",
       "                        <td id=\"T_604899fe_977e_11e9_b8b0_446d5775eb80row5_col0\" class=\"data row5 col0\" >52</td>\n",
       "                        <td id=\"T_604899fe_977e_11e9_b8b0_446d5775eb80row5_col1\" class=\"data row5 col1\" >9.03</td>\n",
       "            </tr>\n",
       "            <tr>\n",
       "                        <th id=\"T_604899fe_977e_11e9_b8b0_446d5775eb80level0_row6\" class=\"row_heading level0 row6\" >35 - 39</th>\n",
       "                        <td id=\"T_604899fe_977e_11e9_b8b0_446d5775eb80row6_col0\" class=\"data row6 col0\" >31</td>\n",
       "                        <td id=\"T_604899fe_977e_11e9_b8b0_446d5775eb80row6_col1\" class=\"data row6 col1\" >5.38</td>\n",
       "            </tr>\n",
       "            <tr>\n",
       "                        <th id=\"T_604899fe_977e_11e9_b8b0_446d5775eb80level0_row7\" class=\"row_heading level0 row7\" >40 +</th>\n",
       "                        <td id=\"T_604899fe_977e_11e9_b8b0_446d5775eb80row7_col0\" class=\"data row7 col0\" >12</td>\n",
       "                        <td id=\"T_604899fe_977e_11e9_b8b0_446d5775eb80row7_col1\" class=\"data row7 col1\" >2.08</td>\n",
       "            </tr>\n",
       "    </tbody></table>"
      ],
      "text/plain": [
       "<pandas.io.formats.style.Styler at 0x239cdda5320>"
      ]
     },
     "execution_count": 51,
     "metadata": {},
     "output_type": "execute_result"
    }
   ],
   "source": [
    "#Create a function to create the group categories that will insert the grouped data into new column 'Age Group'\n",
    "\n",
    "def get_age_bin(age):\n",
    "    if age < 10:\n",
    "        return \"< 10\"\n",
    "    elif age < 15:\n",
    "        return \"10 - 14\"\n",
    "    elif age < 20:\n",
    "        return \"15 - 19\"\n",
    "    elif age < 25:\n",
    "        return \"20 - 24\"\n",
    "    elif age < 30:\n",
    "        return \"25 - 29\"\n",
    "    elif age < 35:\n",
    "        return \"30 - 34\"\n",
    "    elif age < 40:\n",
    "        return \"35 - 39\"\n",
    "    else:\n",
    "        return \"40 +\"\n",
    "\n",
    "purchase_data['Age Group'] = purchase_data['Age'].map(get_age_bin)\n",
    "\n",
    "#Drop duplicates from 'SN' to calculate the total count and percentage of players\n",
    "age_group = purchase_data.drop_duplicates(subset = 'SN', keep = 'first')\n",
    "age_group = age_group.groupby(['Age Group'])\n",
    "age_group_count = age_group['SN'].count()\n",
    "age_group_percentage = (age_group_count / total_player_count) * 100\n",
    "\n",
    "age_group_df = pd.DataFrame({'Total Count': age_group_count,\n",
    "                              'Percentage of Players': age_group_percentage\n",
    "                              \n",
    "})\n",
    "\n",
    "#Reindexing the column to display the last row first.\n",
    "age_group_df = age_group_df.reindex(['< 10','10 - 14', '15 - 19', '20 - 24', '25 - 29', '30 - 34', '35 - 39', '40 +'])\n",
    "\n",
    "#Format total count to whole numbers, and percentage of players to 2 decimals\n",
    "age_group_df.style.format({'Total Count': '{:,}', 'Percentage of Players': '{:,.2f}'})\n",
    "\n"
   ]
  },
  {
   "cell_type": "code",
   "execution_count": 33,
   "metadata": {},
   "outputs": [
    {
     "data": {
      "text/html": [
       "<style  type=\"text/css\" >\n",
       "</style><table id=\"T_39d80bc6_9773_11e9_9945_446d5775eb80\" ><thead>    <tr>        <th class=\"blank level0\" ></th>        <th class=\"col_heading level0 col0\" >Purhcase Count</th>        <th class=\"col_heading level0 col1\" >Average Purchase Price</th>        <th class=\"col_heading level0 col2\" >Total Purchase Value</th>        <th class=\"col_heading level0 col3\" >Avg Total Purchase per Person</th>    </tr>    <tr>        <th class=\"index_name level0\" >Age Group</th>        <th class=\"blank\" ></th>        <th class=\"blank\" ></th>        <th class=\"blank\" ></th>        <th class=\"blank\" ></th>    </tr></thead><tbody>\n",
       "                <tr>\n",
       "                        <th id=\"T_39d80bc6_9773_11e9_9945_446d5775eb80level0_row0\" class=\"row_heading level0 row0\" >10 - 14</th>\n",
       "                        <td id=\"T_39d80bc6_9773_11e9_9945_446d5775eb80row0_col0\" class=\"data row0 col0\" >28</td>\n",
       "                        <td id=\"T_39d80bc6_9773_11e9_9945_446d5775eb80row0_col1\" class=\"data row0 col1\" >$2.96</td>\n",
       "                        <td id=\"T_39d80bc6_9773_11e9_9945_446d5775eb80row0_col2\" class=\"data row0 col2\" >$82.78</td>\n",
       "                        <td id=\"T_39d80bc6_9773_11e9_9945_446d5775eb80row0_col3\" class=\"data row0 col3\" >$3.76</td>\n",
       "            </tr>\n",
       "            <tr>\n",
       "                        <th id=\"T_39d80bc6_9773_11e9_9945_446d5775eb80level0_row1\" class=\"row_heading level0 row1\" >15 - 19</th>\n",
       "                        <td id=\"T_39d80bc6_9773_11e9_9945_446d5775eb80row1_col0\" class=\"data row1 col0\" >136</td>\n",
       "                        <td id=\"T_39d80bc6_9773_11e9_9945_446d5775eb80row1_col1\" class=\"data row1 col1\" >$3.04</td>\n",
       "                        <td id=\"T_39d80bc6_9773_11e9_9945_446d5775eb80row1_col2\" class=\"data row1 col2\" >$412.89</td>\n",
       "                        <td id=\"T_39d80bc6_9773_11e9_9945_446d5775eb80row1_col3\" class=\"data row1 col3\" >$3.86</td>\n",
       "            </tr>\n",
       "            <tr>\n",
       "                        <th id=\"T_39d80bc6_9773_11e9_9945_446d5775eb80level0_row2\" class=\"row_heading level0 row2\" >20 - 24</th>\n",
       "                        <td id=\"T_39d80bc6_9773_11e9_9945_446d5775eb80row2_col0\" class=\"data row2 col0\" >365</td>\n",
       "                        <td id=\"T_39d80bc6_9773_11e9_9945_446d5775eb80row2_col1\" class=\"data row2 col1\" >$3.05</td>\n",
       "                        <td id=\"T_39d80bc6_9773_11e9_9945_446d5775eb80row2_col2\" class=\"data row2 col2\" >$1,114.06</td>\n",
       "                        <td id=\"T_39d80bc6_9773_11e9_9945_446d5775eb80row2_col3\" class=\"data row2 col3\" >$4.32</td>\n",
       "            </tr>\n",
       "            <tr>\n",
       "                        <th id=\"T_39d80bc6_9773_11e9_9945_446d5775eb80level0_row3\" class=\"row_heading level0 row3\" >25 - 29</th>\n",
       "                        <td id=\"T_39d80bc6_9773_11e9_9945_446d5775eb80row3_col0\" class=\"data row3 col0\" >101</td>\n",
       "                        <td id=\"T_39d80bc6_9773_11e9_9945_446d5775eb80row3_col1\" class=\"data row3 col1\" >$2.90</td>\n",
       "                        <td id=\"T_39d80bc6_9773_11e9_9945_446d5775eb80row3_col2\" class=\"data row3 col2\" >$293.00</td>\n",
       "                        <td id=\"T_39d80bc6_9773_11e9_9945_446d5775eb80row3_col3\" class=\"data row3 col3\" >$3.81</td>\n",
       "            </tr>\n",
       "            <tr>\n",
       "                        <th id=\"T_39d80bc6_9773_11e9_9945_446d5775eb80level0_row4\" class=\"row_heading level0 row4\" >30 - 34</th>\n",
       "                        <td id=\"T_39d80bc6_9773_11e9_9945_446d5775eb80row4_col0\" class=\"data row4 col0\" >73</td>\n",
       "                        <td id=\"T_39d80bc6_9773_11e9_9945_446d5775eb80row4_col1\" class=\"data row4 col1\" >$2.93</td>\n",
       "                        <td id=\"T_39d80bc6_9773_11e9_9945_446d5775eb80row4_col2\" class=\"data row4 col2\" >$214.00</td>\n",
       "                        <td id=\"T_39d80bc6_9773_11e9_9945_446d5775eb80row4_col3\" class=\"data row4 col3\" >$4.12</td>\n",
       "            </tr>\n",
       "            <tr>\n",
       "                        <th id=\"T_39d80bc6_9773_11e9_9945_446d5775eb80level0_row5\" class=\"row_heading level0 row5\" >35 - 39</th>\n",
       "                        <td id=\"T_39d80bc6_9773_11e9_9945_446d5775eb80row5_col0\" class=\"data row5 col0\" >41</td>\n",
       "                        <td id=\"T_39d80bc6_9773_11e9_9945_446d5775eb80row5_col1\" class=\"data row5 col1\" >$3.60</td>\n",
       "                        <td id=\"T_39d80bc6_9773_11e9_9945_446d5775eb80row5_col2\" class=\"data row5 col2\" >$147.67</td>\n",
       "                        <td id=\"T_39d80bc6_9773_11e9_9945_446d5775eb80row5_col3\" class=\"data row5 col3\" >$4.76</td>\n",
       "            </tr>\n",
       "            <tr>\n",
       "                        <th id=\"T_39d80bc6_9773_11e9_9945_446d5775eb80level0_row6\" class=\"row_heading level0 row6\" >40 +</th>\n",
       "                        <td id=\"T_39d80bc6_9773_11e9_9945_446d5775eb80row6_col0\" class=\"data row6 col0\" >13</td>\n",
       "                        <td id=\"T_39d80bc6_9773_11e9_9945_446d5775eb80row6_col1\" class=\"data row6 col1\" >$2.94</td>\n",
       "                        <td id=\"T_39d80bc6_9773_11e9_9945_446d5775eb80row6_col2\" class=\"data row6 col2\" >$38.24</td>\n",
       "                        <td id=\"T_39d80bc6_9773_11e9_9945_446d5775eb80row6_col3\" class=\"data row6 col3\" >$3.19</td>\n",
       "            </tr>\n",
       "            <tr>\n",
       "                        <th id=\"T_39d80bc6_9773_11e9_9945_446d5775eb80level0_row7\" class=\"row_heading level0 row7\" >< 10</th>\n",
       "                        <td id=\"T_39d80bc6_9773_11e9_9945_446d5775eb80row7_col0\" class=\"data row7 col0\" >23</td>\n",
       "                        <td id=\"T_39d80bc6_9773_11e9_9945_446d5775eb80row7_col1\" class=\"data row7 col1\" >$3.35</td>\n",
       "                        <td id=\"T_39d80bc6_9773_11e9_9945_446d5775eb80row7_col2\" class=\"data row7 col2\" >$77.13</td>\n",
       "                        <td id=\"T_39d80bc6_9773_11e9_9945_446d5775eb80row7_col3\" class=\"data row7 col3\" >$4.54</td>\n",
       "            </tr>\n",
       "    </tbody></table>"
      ],
      "text/plain": [
       "<pandas.io.formats.style.Styler at 0x239cddaf2b0>"
      ]
     },
     "execution_count": 33,
     "metadata": {},
     "output_type": "execute_result"
    }
   ],
   "source": [
    "\n",
    "purchase_data['Age Group'] = purchase_data['Age'].map(get_age_bin)\n",
    "\n",
    "#Find the purchase count, average purchase, and total purchase for each group that was created by the function\n",
    "age_group_df = purchase_data.groupby(['Age Group'])\n",
    "age_group_count = age_group_df['Age'].count()\n",
    "age_group_avg = age_group_df['Price'].mean()\n",
    "age_group_total = age_group_df['Price'].sum()\n",
    "\n",
    "#Remove duplicates to calculated the per person average\n",
    "age_group_unique = purchase_data.drop_duplicates(subset = 'SN', keep = 'first')\n",
    "age_group_unique = age_group_unique.groupby(['Age Group'])\n",
    "age_group_unique = age_group_unique['SN'].count()\n",
    "\n",
    "#Combing the data from 2 group data to find the average per person\n",
    "age_group_avg_person = (age_group_total / age_group_unique)\n",
    "\n",
    "\n",
    "\n",
    "age_group_df = pd.DataFrame({'Purhcase Count': age_group_count,\n",
    "                              'Average Purchase Price': age_group_avg,\n",
    "                              'Total Purchase Value': age_group_total,\n",
    "                              'Avg Total Purchase per Person': age_group_avg_person\n",
    "})\n",
    "\n",
    "\n",
    "#Format cells\n",
    "age_group_df.style.format({'Average Purchase Price': '${:,.2f}', 'Total Purchase Value': '${:,.2f}',\n",
    "                                       'Avg Total Purchase per Person': '${:,.2f}','text-align': 'left'})\n"
   ]
  },
  {
   "cell_type": "code",
   "execution_count": 34,
   "metadata": {},
   "outputs": [
    {
     "data": {
      "text/html": [
       "<div>\n",
       "<style scoped>\n",
       "    .dataframe tbody tr th:only-of-type {\n",
       "        vertical-align: middle;\n",
       "    }\n",
       "\n",
       "    .dataframe tbody tr th {\n",
       "        vertical-align: top;\n",
       "    }\n",
       "\n",
       "    .dataframe thead th {\n",
       "        text-align: right;\n",
       "    }\n",
       "</style>\n",
       "<table border=\"1\" class=\"dataframe\">\n",
       "  <thead>\n",
       "    <tr style=\"text-align: right;\">\n",
       "      <th></th>\n",
       "      <th>Purhcase Count</th>\n",
       "      <th>Average Purchase Price</th>\n",
       "      <th>Total Purchase Value</th>\n",
       "    </tr>\n",
       "    <tr>\n",
       "      <th>SN</th>\n",
       "      <th></th>\n",
       "      <th></th>\n",
       "      <th></th>\n",
       "    </tr>\n",
       "  </thead>\n",
       "  <tbody>\n",
       "    <tr>\n",
       "      <th>Lisosia93</th>\n",
       "      <td>5</td>\n",
       "      <td>$3.79</td>\n",
       "      <td>$18.96</td>\n",
       "    </tr>\n",
       "    <tr>\n",
       "      <th>Idastidru52</th>\n",
       "      <td>4</td>\n",
       "      <td>$3.86</td>\n",
       "      <td>$15.45</td>\n",
       "    </tr>\n",
       "    <tr>\n",
       "      <th>Chamjask73</th>\n",
       "      <td>3</td>\n",
       "      <td>$4.61</td>\n",
       "      <td>$13.83</td>\n",
       "    </tr>\n",
       "    <tr>\n",
       "      <th>Iral74</th>\n",
       "      <td>4</td>\n",
       "      <td>$3.40</td>\n",
       "      <td>$13.62</td>\n",
       "    </tr>\n",
       "    <tr>\n",
       "      <th>Iskadarya95</th>\n",
       "      <td>3</td>\n",
       "      <td>$4.37</td>\n",
       "      <td>$13.10</td>\n",
       "    </tr>\n",
       "  </tbody>\n",
       "</table>\n",
       "</div>"
      ],
      "text/plain": [
       "             Purhcase Count Average Purchase Price Total Purchase Value\n",
       "SN                                                                     \n",
       "Lisosia93                 5                  $3.79               $18.96\n",
       "Idastidru52               4                  $3.86               $15.45\n",
       "Chamjask73                3                  $4.61               $13.83\n",
       "Iral74                    4                  $3.40               $13.62\n",
       "Iskadarya95               3                  $4.37               $13.10"
      ]
     },
     "execution_count": 34,
     "metadata": {},
     "output_type": "execute_result"
    }
   ],
   "source": [
    "#Group data by 'SN' to find the top purchase count, avg purchase price, and total purchase price\n",
    "top_spender = purchase_data.groupby(['SN'])\n",
    "top_spender_count = top_spender['Item ID'].count()\n",
    "top_spender_total = top_spender['Price'].sum()\n",
    "top_spender_avg = (top_spender_total / top_spender_count)\n",
    "\n",
    "\n",
    "top_spender_df = pd.DataFrame({'Purhcase Count': top_spender_count,\n",
    "                              'Average Purchase Price': top_spender_avg,\n",
    "                              'Total Purchase Value': top_spender_total})\n",
    "\n",
    "#Sort by the top purchase count to know who spent the most\n",
    "top_spender_df = top_spender_df.sort_values('Total Purchase Value', ascending = False)\n",
    "top_spender_df['Average Purchase Price'] = top_spender_df['Average Purchase Price'].map('${:.2f}'.format)\n",
    "top_spender_df['Total Purchase Value'] = top_spender_df['Total Purchase Value'].map('${:.2f}'.format)\n",
    "\n",
    "top_spender_df.head(5)\n"
   ]
  },
  {
   "cell_type": "code",
   "execution_count": 35,
   "metadata": {},
   "outputs": [
    {
     "data": {
      "text/html": [
       "<div>\n",
       "<style scoped>\n",
       "    .dataframe tbody tr th:only-of-type {\n",
       "        vertical-align: middle;\n",
       "    }\n",
       "\n",
       "    .dataframe tbody tr th {\n",
       "        vertical-align: top;\n",
       "    }\n",
       "\n",
       "    .dataframe thead th {\n",
       "        text-align: right;\n",
       "    }\n",
       "</style>\n",
       "<table border=\"1\" class=\"dataframe\">\n",
       "  <thead>\n",
       "    <tr style=\"text-align: right;\">\n",
       "      <th></th>\n",
       "      <th></th>\n",
       "      <th>Purchase Count</th>\n",
       "      <th>Item Price</th>\n",
       "      <th>Total Purchase Value</th>\n",
       "    </tr>\n",
       "    <tr>\n",
       "      <th>Item ID</th>\n",
       "      <th>Item Name</th>\n",
       "      <th></th>\n",
       "      <th></th>\n",
       "      <th></th>\n",
       "    </tr>\n",
       "  </thead>\n",
       "  <tbody>\n",
       "    <tr>\n",
       "      <th>178</th>\n",
       "      <th>Oathbreaker, Last Hope of the Breaking Storm</th>\n",
       "      <td>12</td>\n",
       "      <td>$4.23</td>\n",
       "      <td>$50.76</td>\n",
       "    </tr>\n",
       "    <tr>\n",
       "      <th>145</th>\n",
       "      <th>Fiery Glass Crusader</th>\n",
       "      <td>9</td>\n",
       "      <td>$4.58</td>\n",
       "      <td>$41.22</td>\n",
       "    </tr>\n",
       "    <tr>\n",
       "      <th>108</th>\n",
       "      <th>Extraction, Quickblade Of Trembling Hands</th>\n",
       "      <td>9</td>\n",
       "      <td>$3.53</td>\n",
       "      <td>$31.77</td>\n",
       "    </tr>\n",
       "    <tr>\n",
       "      <th>82</th>\n",
       "      <th>Nirvana</th>\n",
       "      <td>9</td>\n",
       "      <td>$4.90</td>\n",
       "      <td>$44.10</td>\n",
       "    </tr>\n",
       "    <tr>\n",
       "      <th>19</th>\n",
       "      <th>Pursuit, Cudgel of Necromancy</th>\n",
       "      <td>8</td>\n",
       "      <td>$1.02</td>\n",
       "      <td>$8.16</td>\n",
       "    </tr>\n",
       "  </tbody>\n",
       "</table>\n",
       "</div>"
      ],
      "text/plain": [
       "                                                      Purchase Count  \\\n",
       "Item ID Item Name                                                      \n",
       "178     Oathbreaker, Last Hope of the Breaking Storm              12   \n",
       "145     Fiery Glass Crusader                                       9   \n",
       "108     Extraction, Quickblade Of Trembling Hands                  9   \n",
       "82      Nirvana                                                    9   \n",
       "19      Pursuit, Cudgel of Necromancy                              8   \n",
       "\n",
       "                                                     Item Price  \\\n",
       "Item ID Item Name                                                 \n",
       "178     Oathbreaker, Last Hope of the Breaking Storm      $4.23   \n",
       "145     Fiery Glass Crusader                              $4.58   \n",
       "108     Extraction, Quickblade Of Trembling Hands         $3.53   \n",
       "82      Nirvana                                           $4.90   \n",
       "19      Pursuit, Cudgel of Necromancy                     $1.02   \n",
       "\n",
       "                                                     Total Purchase Value  \n",
       "Item ID Item Name                                                          \n",
       "178     Oathbreaker, Last Hope of the Breaking Storm               $50.76  \n",
       "145     Fiery Glass Crusader                                       $41.22  \n",
       "108     Extraction, Quickblade Of Trembling Hands                  $31.77  \n",
       "82      Nirvana                                                    $44.10  \n",
       "19      Pursuit, Cudgel of Necromancy                               $8.16  "
      ]
     },
     "execution_count": 35,
     "metadata": {},
     "output_type": "execute_result"
    }
   ],
   "source": [
    "#Group by both 'item Id' and 'item name'\n",
    "most_popular = purchase_data.groupby(['Item ID', 'Item Name'])\n",
    "most_popular_count = most_popular['Item ID'].count()\n",
    "most_popular_total = most_popular['Price'].sum()\n",
    "most_popular_price = most_popular['Price'].mean()\n",
    "\n",
    "\n",
    "most_popular_df = pd.DataFrame({'Purchase Count': most_popular_count,\n",
    "                                'Item Price': most_popular_price,\n",
    "                                'Total Purchase Value': most_popular_total})\n",
    "\n",
    "#Sort by purchase count to know which item was brought most\n",
    "most_popular_df = most_popular_df.sort_values('Purchase Count', ascending = False)\n",
    "\n",
    "most_popular_df['Item Price'] = most_popular_df['Item Price'].map('${:.2f}'.format)\n",
    "most_popular_df['Total Purchase Value'] = most_popular_df['Total Purchase Value'].map('${:.2f}'.format)\n",
    "\n",
    "\n",
    "most_popular_df.head(5)\n"
   ]
  },
  {
   "cell_type": "code",
   "execution_count": 30,
   "metadata": {},
   "outputs": [
    {
     "data": {
      "text/html": [
       "<div>\n",
       "<style scoped>\n",
       "    .dataframe tbody tr th:only-of-type {\n",
       "        vertical-align: middle;\n",
       "    }\n",
       "\n",
       "    .dataframe tbody tr th {\n",
       "        vertical-align: top;\n",
       "    }\n",
       "\n",
       "    .dataframe thead th {\n",
       "        text-align: right;\n",
       "    }\n",
       "</style>\n",
       "<table border=\"1\" class=\"dataframe\">\n",
       "  <thead>\n",
       "    <tr style=\"text-align: right;\">\n",
       "      <th></th>\n",
       "      <th></th>\n",
       "      <th>Purchase Count</th>\n",
       "      <th>Item Price</th>\n",
       "      <th>Total Purchase Value</th>\n",
       "    </tr>\n",
       "    <tr>\n",
       "      <th>Item ID</th>\n",
       "      <th>Item Name</th>\n",
       "      <th></th>\n",
       "      <th></th>\n",
       "      <th></th>\n",
       "    </tr>\n",
       "  </thead>\n",
       "  <tbody>\n",
       "    <tr>\n",
       "      <th>178</th>\n",
       "      <th>Oathbreaker, Last Hope of the Breaking Storm</th>\n",
       "      <td>12</td>\n",
       "      <td>$4.23</td>\n",
       "      <td>$50.76</td>\n",
       "    </tr>\n",
       "    <tr>\n",
       "      <th>82</th>\n",
       "      <th>Nirvana</th>\n",
       "      <td>9</td>\n",
       "      <td>$4.90</td>\n",
       "      <td>$44.10</td>\n",
       "    </tr>\n",
       "    <tr>\n",
       "      <th>145</th>\n",
       "      <th>Fiery Glass Crusader</th>\n",
       "      <td>9</td>\n",
       "      <td>$4.58</td>\n",
       "      <td>$41.22</td>\n",
       "    </tr>\n",
       "    <tr>\n",
       "      <th>92</th>\n",
       "      <th>Final Critic</th>\n",
       "      <td>8</td>\n",
       "      <td>$4.88</td>\n",
       "      <td>$39.04</td>\n",
       "    </tr>\n",
       "    <tr>\n",
       "      <th>103</th>\n",
       "      <th>Singed Scalpel</th>\n",
       "      <td>8</td>\n",
       "      <td>$4.35</td>\n",
       "      <td>$34.80</td>\n",
       "    </tr>\n",
       "  </tbody>\n",
       "</table>\n",
       "</div>"
      ],
      "text/plain": [
       "                                                      Purchase Count  \\\n",
       "Item ID Item Name                                                      \n",
       "178     Oathbreaker, Last Hope of the Breaking Storm              12   \n",
       "82      Nirvana                                                    9   \n",
       "145     Fiery Glass Crusader                                       9   \n",
       "92      Final Critic                                               8   \n",
       "103     Singed Scalpel                                             8   \n",
       "\n",
       "                                                     Item Price  \\\n",
       "Item ID Item Name                                                 \n",
       "178     Oathbreaker, Last Hope of the Breaking Storm      $4.23   \n",
       "82      Nirvana                                           $4.90   \n",
       "145     Fiery Glass Crusader                              $4.58   \n",
       "92      Final Critic                                      $4.88   \n",
       "103     Singed Scalpel                                    $4.35   \n",
       "\n",
       "                                                     Total Purchase Value  \n",
       "Item ID Item Name                                                          \n",
       "178     Oathbreaker, Last Hope of the Breaking Storm               $50.76  \n",
       "82      Nirvana                                                    $44.10  \n",
       "145     Fiery Glass Crusader                                       $41.22  \n",
       "92      Final Critic                                               $39.04  \n",
       "103     Singed Scalpel                                             $34.80  "
      ]
     },
     "execution_count": 30,
     "metadata": {},
     "output_type": "execute_result"
    }
   ],
   "source": [
    "\n",
    "most_profitable_df = most_popular_df\n",
    "most_profitable_df = pd.DataFrame({'Purchase Count': most_popular_count,\n",
    "                                   'Item Price': most_popular_price,\n",
    "                                   'Total Purchase Value': most_popular_total})\n",
    "\n",
    "\n",
    "#Sort by 'total purchase price' to find the item that most revenue\n",
    "most_profitable_df = most_profitable_df.sort_values('Total Purchase Value', ascending = False)\n",
    "\n",
    "most_profitable_df['Item Price'] = most_profitable_df['Item Price'].map('${:.2f}'.format)\n",
    "most_profitable_df['Total Purchase Value'] = most_profitable_df['Total Purchase Value'].map('${:.2f}'.format)\n",
    "most_profitable_df. head(5)"
   ]
  },
  {
   "cell_type": "code",
   "execution_count": null,
   "metadata": {},
   "outputs": [],
   "source": [
    "#Conclusion\n",
    "# 1.  Major of the players are in the age group of 15 to making up 76.74 % of all the players.  They\n",
    "# also contribute the most in revenue.\n",
    "# 2.  The average majority of players are made up of males, making 84.0278 % of the total population.  There\n",
    "# is a high likely hood that they make up a higher percentage but there is 1.909 % that didn't disclose their \n",
    "# gender.\n",
    "# 3. It doesn't seem that there is a item that is overly popular with with the top 5 items being separated by \n",
    "# over 3 to 4 differnce in total purchases."
   ]
  }
 ],
 "metadata": {
  "kernelspec": {
   "display_name": "Python 3",
   "language": "python",
   "name": "python3"
  },
  "language_info": {
   "codemirror_mode": {
    "name": "ipython",
    "version": 3
   },
   "file_extension": ".py",
   "mimetype": "text/x-python",
   "name": "python",
   "nbconvert_exporter": "python",
   "pygments_lexer": "ipython3",
   "version": "3.7.4"
  }
 },
 "nbformat": 4,
 "nbformat_minor": 2
}
